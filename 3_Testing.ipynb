{
 "cells": [
  {
   "cell_type": "code",
   "execution_count": 1,
   "id": "321c4ed8-141c-4b87-a378-46b24642fc99",
   "metadata": {},
   "outputs": [],
   "source": [
    "import json\n",
    "from pathlib import Path\n",
    "import pandas as pd\n",
    "import matplotlib.pyplot as plt\n",
    "from PIL import Image\n",
    "from tqdm.notebook import tqdm\n",
    "import pickle\n",
    "import random\n",
    "\n",
    "pd.options.display.max_rows = 5"
   ]
  },
  {
   "cell_type": "code",
   "execution_count": 4,
   "id": "f9a49342-f6e1-4341-8a30-848274b2bb75",
   "metadata": {},
   "outputs": [],
   "source": [
    "file_path = 'jl_fs/input/df_test.pkl'\n",
    "\n",
    "with open(file_path, 'rb') as file:\n",
    "    df_test = pickle.load(file)"
   ]
  },
  {
   "cell_type": "code",
   "execution_count": 5,
   "id": "20933f87-798d-4b43-8629-b5cdc4518d31",
   "metadata": {},
   "outputs": [
    {
     "data": {
      "text/html": [
       "<div>\n",
       "<style scoped>\n",
       "    .dataframe tbody tr th:only-of-type {\n",
       "        vertical-align: middle;\n",
       "    }\n",
       "\n",
       "    .dataframe tbody tr th {\n",
       "        vertical-align: top;\n",
       "    }\n",
       "\n",
       "    .dataframe thead th {\n",
       "        text-align: right;\n",
       "    }\n",
       "</style>\n",
       "<table border=\"1\" class=\"dataframe\">\n",
       "  <thead>\n",
       "    <tr style=\"text-align: right;\">\n",
       "      <th></th>\n",
       "      <th>class</th>\n",
       "      <th>image</th>\n",
       "    </tr>\n",
       "  </thead>\n",
       "  <tbody>\n",
       "    <tr>\n",
       "      <th>0</th>\n",
       "      <td>Normal</td>\n",
       "      <td>&lt;PIL.Image.Image image mode=L size=300x200 at ...</td>\n",
       "    </tr>\n",
       "    <tr>\n",
       "      <th>1</th>\n",
       "      <td>Normal</td>\n",
       "      <td>&lt;PIL.Image.Image image mode=L size=300x200 at ...</td>\n",
       "    </tr>\n",
       "    <tr>\n",
       "      <th>...</th>\n",
       "      <td>...</td>\n",
       "      <td>...</td>\n",
       "    </tr>\n",
       "    <tr>\n",
       "      <th>21890</th>\n",
       "      <td>Paced-Normal Fusion</td>\n",
       "      <td>&lt;PIL.Image.Image image mode=L size=300x200 at ...</td>\n",
       "    </tr>\n",
       "    <tr>\n",
       "      <th>21891</th>\n",
       "      <td>Paced-Normal Fusion</td>\n",
       "      <td>&lt;PIL.Image.Image image mode=L size=300x200 at ...</td>\n",
       "    </tr>\n",
       "  </tbody>\n",
       "</table>\n",
       "<p>21892 rows × 2 columns</p>\n",
       "</div>"
      ],
      "text/plain": [
       "                     class                                              image\n",
       "0                   Normal  <PIL.Image.Image image mode=L size=300x200 at ...\n",
       "1                   Normal  <PIL.Image.Image image mode=L size=300x200 at ...\n",
       "...                    ...                                                ...\n",
       "21890  Paced-Normal Fusion  <PIL.Image.Image image mode=L size=300x200 at ...\n",
       "21891  Paced-Normal Fusion  <PIL.Image.Image image mode=L size=300x200 at ...\n",
       "\n",
       "[21892 rows x 2 columns]"
      ]
     },
     "execution_count": 5,
     "metadata": {},
     "output_type": "execute_result"
    }
   ],
   "source": [
    "df_test"
   ]
  },
  {
   "cell_type": "code",
   "execution_count": 16,
   "id": "817807a2-a3a1-42f6-ba09-65cebe3872ef",
   "metadata": {},
   "outputs": [
    {
     "data": {
      "text/plain": [
       "((10946, 2), (10946, 2))"
      ]
     },
     "execution_count": 16,
     "metadata": {},
     "output_type": "execute_result"
    }
   ],
   "source": [
    "df_test = df_test.sample(frac=1, random_state=42).reset_index(drop=True)\n",
    "midpoint = len(df_test) // 2\n",
    "\n",
    "data_test    = df_test.iloc[:midpoint].copy()  \n",
    "data_holdout = df_test.iloc[midpoint:].copy()\n",
    "\n",
    "data_test.shape,  data_holdout.shape"
   ]
  },
  {
   "cell_type": "code",
   "execution_count": 17,
   "id": "5884ae42-f2c8-4456-8424-37649b151677",
   "metadata": {},
   "outputs": [
    {
     "data": {
      "text/html": [
       "<div>\n",
       "<style scoped>\n",
       "    .dataframe tbody tr th:only-of-type {\n",
       "        vertical-align: middle;\n",
       "    }\n",
       "\n",
       "    .dataframe tbody tr th {\n",
       "        vertical-align: top;\n",
       "    }\n",
       "\n",
       "    .dataframe thead th {\n",
       "        text-align: right;\n",
       "    }\n",
       "</style>\n",
       "<table border=\"1\" class=\"dataframe\">\n",
       "  <thead>\n",
       "    <tr style=\"text-align: right;\">\n",
       "      <th></th>\n",
       "      <th>class</th>\n",
       "      <th>image</th>\n",
       "    </tr>\n",
       "  </thead>\n",
       "  <tbody>\n",
       "    <tr>\n",
       "      <th>0</th>\n",
       "      <td>Normal</td>\n",
       "      <td>&lt;PIL.Image.Image image mode=L size=300x200 at ...</td>\n",
       "    </tr>\n",
       "    <tr>\n",
       "      <th>1</th>\n",
       "      <td>Normal</td>\n",
       "      <td>&lt;PIL.Image.Image image mode=L size=300x200 at ...</td>\n",
       "    </tr>\n",
       "    <tr>\n",
       "      <th>...</th>\n",
       "      <td>...</td>\n",
       "      <td>...</td>\n",
       "    </tr>\n",
       "    <tr>\n",
       "      <th>10944</th>\n",
       "      <td>Normal</td>\n",
       "      <td>&lt;PIL.Image.Image image mode=L size=300x200 at ...</td>\n",
       "    </tr>\n",
       "    <tr>\n",
       "      <th>10945</th>\n",
       "      <td>Normal</td>\n",
       "      <td>&lt;PIL.Image.Image image mode=L size=300x200 at ...</td>\n",
       "    </tr>\n",
       "  </tbody>\n",
       "</table>\n",
       "<p>10946 rows × 2 columns</p>\n",
       "</div>"
      ],
      "text/plain": [
       "        class                                              image\n",
       "0      Normal  <PIL.Image.Image image mode=L size=300x200 at ...\n",
       "1      Normal  <PIL.Image.Image image mode=L size=300x200 at ...\n",
       "...       ...                                                ...\n",
       "10944  Normal  <PIL.Image.Image image mode=L size=300x200 at ...\n",
       "10945  Normal  <PIL.Image.Image image mode=L size=300x200 at ...\n",
       "\n",
       "[10946 rows x 2 columns]"
      ]
     },
     "execution_count": 17,
     "metadata": {},
     "output_type": "execute_result"
    }
   ],
   "source": [
    "data_test"
   ]
  },
  {
   "cell_type": "code",
   "execution_count": 19,
   "id": "9dc2ca50-82b2-43bd-981a-2b07431cf427",
   "metadata": {},
   "outputs": [],
   "source": [
    "data_test['class'].to_csv('jl_fs/y_test.csv', index=True)\n",
    "data_holdout['class'].to_csv('jl_fs/y_holdout.csv', index=True)"
   ]
  },
  {
   "cell_type": "markdown",
   "id": "179c4995-9087-4d77-bfc1-852ba7cd7e1d",
   "metadata": {},
   "source": [
    "# Inference on Test Data"
   ]
  },
  {
   "cell_type": "code",
   "execution_count": null,
   "id": "468497ab-1b2c-4ea9-a555-151079ed7317",
   "metadata": {},
   "outputs": [],
   "source": [
    "from unsloth import FastVisionModel\n",
    "from transformers import TextStreamer"
   ]
  },
  {
   "cell_type": "code",
   "execution_count": 12,
   "id": "b320e572-119a-421a-80fc-fa361ff71405",
   "metadata": {},
   "outputs": [
    {
     "name": "stdout",
     "output_type": "stream",
     "text": [
      "==((====))==  Unsloth 2025.2.15: Fast Mllama vision patching. Transformers: 4.49.0.\n",
      "   \\\\   /|    GPU: NVIDIA RTX 6000 Ada Generation. Max memory: 47.507 GB. Platform: Linux.\n",
      "O^O/ \\_/ \\    Torch: 2.5.1+cu121. CUDA: 8.9. CUDA Toolkit: 12.1. Triton: 3.1.0\n",
      "\\        /    Bfloat16 = TRUE. FA [Xformers = None. FA2 = False]\n",
      " \"-____-\"     Free Apache license: http://github.com/unslothai/unsloth\n",
      "Unsloth: Fast downloading is enabled - ignore downloading bars which are red colored!\n"
     ]
    },
    {
     "data": {
      "application/vnd.jupyter.widget-view+json": {
       "model_id": "5b20c8ddcd8d40b9b8abb1ae34907e93",
       "version_major": 2,
       "version_minor": 0
      },
      "text/plain": [
       "Loading checkpoint shards:   0%|          | 0/2 [00:00<?, ?it/s]"
      ]
     },
     "metadata": {},
     "output_type": "display_data"
    },
    {
     "data": {
      "application/vnd.jupyter.widget-view+json": {
       "model_id": "c2660cbd3b55431e9946eda13af4ce55",
       "version_major": 2,
       "version_minor": 0
      },
      "text/plain": [
       "adapter_model.safetensors:   0%|          | 0.00/269M [00:00<?, ?B/s]"
      ]
     },
     "metadata": {},
     "output_type": "display_data"
    }
   ],
   "source": [
    "model_name = \"Aidan777/Llama-3.2-11B-Vision-Instruct_finetuned_ecg\"\n",
    "\n",
    "model, tokenizer = FastVisionModel.from_pretrained(\n",
    "                                        model_name=model_name, \n",
    "                                        load_in_4bit=True)"
   ]
  },
  {
   "cell_type": "code",
   "execution_count": 19,
   "id": "f02b786d-dd96-4117-aed5-25ed0cfc41c9",
   "metadata": {},
   "outputs": [],
   "source": [
    "instruction_user = \"\"\"\n",
    "You are a specialist Cardiologist specializing in the analysis of ECG (Electrocardiogram) signals.\n",
    "Your goal is to analyze ECG signals and classify them accurately.\n",
    "You are provided with a ECG image and a class that corresponds to the image.\n",
    "You only classify ECG signals into one of the following five categories: \n",
    "\"Normal\", \"Supraventricular Arrhythmia\", \"Ventricular Arrhythmia\", \"Ventricular-Normal Fusion\", \"Paced-Normal Fusion\".\n",
    "Each ECG signal must be classified into exactly one of these categories.\n",
    "No additional text should be included in the output.\n",
    "You are provided with an ECG signal image to look into. It is Time (x-axis) vs Voltage (y-axis). \n",
    "Classify the ECG signal accurately by analyzing the provided data.\n",
    "\"\"\""
   ]
  },
  {
   "cell_type": "code",
   "execution_count": null,
   "id": "cafde83f-ae1d-46a0-b664-cd2e22d7694e",
   "metadata": {
    "scrolled": true
   },
   "outputs": [],
   "source": [
    "FastVisionModel.for_inference(model)\n",
    "\n",
    "outputs = {}\n",
    "for i in tqdm(range(len(data_test))):\n",
    "\n",
    "    image = data_test.iloc[i]['image']\n",
    "    idx   = data_test.index[i]\n",
    "    assert isinstance(image, Image.Image)  \n",
    "    \n",
    "    messages = [{\"role\": \"user\",\n",
    "                 \"content\": [{\"type\": \"image\"},\n",
    "                             {\"type\": \"text\", \"text\": instruction_user}]}]\n",
    "\n",
    "    input_text    = tokenizer.apply_chat_template(messages, add_generation_prompt=True)\n",
    "    inputs        = tokenizer(image, input_text, add_special_tokens=False, return_tensors=\"pt\").to(\"cuda\")\n",
    "    text_streamer = TextStreamer(tokenizer, skip_prompt=True)\n",
    "    \n",
    "    output = model.generate(**inputs,\n",
    "                            streamer=text_streamer,\n",
    "                            max_new_tokens=128, # of the output\n",
    "                            use_cache=True,\n",
    "                            temperature=1.5,\n",
    "                            min_p=0.1)\n",
    "\n",
    "\n",
    "    decoded_text  = tokenizer.decode(output[0], skip_special_tokens=True)\n",
    "    required_text = decoded_text.split('assistant\\n\\n', 1)[-1]\n",
    "    del output\n",
    "    \n",
    "    outputs[idx] = required_text"
   ]
  },
  {
   "cell_type": "code",
   "execution_count": 34,
   "id": "49bc4d5b-e8d5-42fb-b2fc-8b67db51f8bf",
   "metadata": {},
   "outputs": [],
   "source": [
    "file_name = \"jl_fs/Llama-3.2-11B-Vision-Instruct_finetuned_ecg_TEST_OUTPUT.json\"\n",
    "\n",
    "with open(file_name, \"w\") as file:\n",
    "    json.dump(outputs, file, indent=4)  "
   ]
  },
  {
   "cell_type": "markdown",
   "id": "508af236-a4ca-4225-b1c3-94856d4172c8",
   "metadata": {},
   "source": [
    "# Evaluation"
   ]
  },
  {
   "cell_type": "code",
   "execution_count": null,
   "id": "736e9298-02a4-4e3a-94d3-9652168c805e",
   "metadata": {},
   "outputs": [],
   "source": [
    "import json\n",
    "import pandas as pd\n",
    "import matplotlib.pyplot as plt\n",
    "from sklearn.metrics import confusion_matrix, ConfusionMatrixDisplay, classification_report\n",
    "\n",
    "pd.options.display.max_rows = 5"
   ]
  },
  {
   "cell_type": "code",
   "execution_count": 77,
   "id": "c4b8f0e3-f921-4cb7-83b8-ab2aae999217",
   "metadata": {},
   "outputs": [
    {
     "data": {
      "text/plain": [
       "class                      \n",
       "Normal                         8490\n",
       "Ventricular Arrhythmia          857\n",
       "Paced-Normal Fusion             776\n",
       "Supraventricular Arrhythmia     635\n",
       "Ventricular-Normal Fusion       188\n",
       "Name: count, dtype: int64"
      ]
     },
     "execution_count": 77,
     "metadata": {},
     "output_type": "execute_result"
    }
   ],
   "source": [
    "# Inference results \n",
    "\n",
    "file_path = \"jl_fs/Llama-3.2-11B-Vision-Instruct_finetuned_ecg_TEST_OUTPUT.json\" \n",
    "file = open(file_path, 'r')\n",
    "y_pred = json.load(file)\n",
    "file.close()\n",
    "\n",
    "y_pred = pd.DataFrame(y_pred.values(), index=y_pred.keys())\n",
    "y_pred.columns = ['class']\n",
    "y_pred.value_counts(dropna=False)"
   ]
  },
  {
   "cell_type": "code",
   "execution_count": 78,
   "id": "80aeefe7",
   "metadata": {},
   "outputs": [
    {
     "data": {
      "text/plain": [
       "class                      \n",
       "Normal                         9106\n",
       "Paced-Normal Fusion             795\n",
       "Ventricular Arrhythmia          694\n",
       "Supraventricular Arrhythmia     267\n",
       "Ventricular-Normal Fusion        84\n",
       "Name: count, dtype: int64"
      ]
     },
     "execution_count": 78,
     "metadata": {},
     "output_type": "execute_result"
    }
   ],
   "source": [
    "# True labels\n",
    "\n",
    "y_test = pd.read_csv('jl_fs/y_test.csv', index_col=0)\n",
    "y_test.value_counts(dropna=False)"
   ]
  },
  {
   "cell_type": "code",
   "execution_count": 79,
   "id": "8a8926d0",
   "metadata": {},
   "outputs": [
    {
     "data": {
      "text/plain": [
       "(set(), set())"
      ]
     },
     "execution_count": 79,
     "metadata": {},
     "output_type": "execute_result"
    }
   ],
   "source": [
    "#Check if LLM Vision outputed only categories of interest, no other text\n",
    "set(y_pred['class']) - set(y_test['class']), set(y_test['class']) - set(y_pred['class'])"
   ]
  },
  {
   "cell_type": "code",
   "execution_count": 80,
   "id": "f9d27c32",
   "metadata": {},
   "outputs": [
    {
     "data": {
      "text/plain": [
       "['Normal',\n",
       " 'Supraventricular Arrhythmia',\n",
       " 'Ventricular-Normal Fusion',\n",
       " 'Ventricular Arrhythmia',\n",
       " 'Paced-Normal Fusion']"
      ]
     },
     "execution_count": 80,
     "metadata": {},
     "output_type": "execute_result"
    }
   ],
   "source": [
    "list(set(y_test['class']))"
   ]
  },
  {
   "cell_type": "code",
   "execution_count": null,
   "id": "b5070775",
   "metadata": {},
   "outputs": [
    {
     "data": {
      "image/png": "[encoded data removed]",
      "text/plain": [
       "<Figure size 640x480 with 2 Axes>"
      ]
     },
     "metadata": {},
     "output_type": "display_data"
    }
   ],
   "source": [
    "classes = ['Supraventricular Arrhythmia', 'Normal',\n",
    "           'Ventricular-Normal Fusion', 'Ventricular Arrhythmia',\n",
    "            'Paced-Normal Fusion']\n",
    "\n",
    "cm = confusion_matrix(y_test['class'].tolist(),\n",
    "                      y_pred['class'].tolist(), \n",
    "                      labels=classes)\n",
    "\n",
    "disp = ConfusionMatrixDisplay(confusion_matrix=cm, display_labels=classes)\n",
    "disp.plot(cmap=plt.cm.Blues); plt.title(\"Confusion Matrix\");\n",
    "plt.xticks(rotation=90);"
   ]
  },
  {
   "cell_type": "code",
   "execution_count": 88,
   "id": "d9cee857",
   "metadata": {},
   "outputs": [
    {
     "name": "stdout",
     "output_type": "stream",
     "text": [
      "                             precision    recall  f1-score   support\n",
      "\n",
      "                     Normal       0.96      0.89      0.92      9106\n",
      "        Paced-Normal Fusion       0.78      0.76      0.77       795\n",
      "Supraventricular Arrhythmia       0.14      0.33      0.20       267\n",
      "     Ventricular Arrhythmia       0.57      0.70      0.63       694\n",
      "  Ventricular-Normal Fusion       0.11      0.25      0.15        84\n",
      "\n",
      "                   accuracy                           0.85     10946\n",
      "                  macro avg       0.51      0.59      0.53     10946\n",
      "               weighted avg       0.89      0.85      0.87     10946\n",
      "\n"
     ]
    }
   ],
   "source": [
    "print(classification_report(y_test['class'], y_pred['class']))"
   ]
  },
  {
   "cell_type": "markdown",
   "id": "c7b98f5f",
   "metadata": {},
   "source": [
    "- Normal (F1-score = 0.92): The model performs exceptionally well for this class, achieving a high F1-score. \n",
    "\n",
    "- Paced-Normal Fusion (F1-score = 0.77): Performance is good for this class, with a well-balanced F1-score, showing that the model predicts it relatively reliably.\n",
    "\n",
    "- Supraventricular Arrhythmia (F1-score = 0.20): The F1-score is quite low for this class, which suggests significant difficulties.\n",
    "\n",
    "- Ventricular Arrhythmia (F1-score = 0.63): The model performs moderately well for this class. While not as strong as the larger classes, predictions are reasonably accurate.\n",
    "\n",
    "- Ventricular-Normal Fusion (F1-score = 0.15): Performance is very poor for this class, as reflected by the low F1-score. The model struggles to differentiate this class from others.\n",
    "\n",
    "- The model performs strongly for \"Normal\" and reasonably well for \"Paced-Normal Fusion\" and \"Ventricular Arrhythmia\"\n",
    "\n",
    "- It struggles significantly with rare or minority classes like \"Supraventricular Arrhythmia\" and \"Ventricular-Normal Fusion.\"\n",
    "\n",
    "- Addressing class imbalance or refining the model for minority classes could help improve overall F1-scores for these weaker areas. \n"
   ]
  },
  {
   "cell_type": "markdown",
   "id": "c2b27033",
   "metadata": {},
   "source": [
    "# Ways to improve: \n",
    "\n",
    "- I used a light version of Llama-3.2-11B-Vision-Instruct, with 11 Billion params. Potentially, a larger model could be used, like 70 Billion params\n",
    "\n",
    "- I didn't attempt to improve the model, using params search or using other Visual Language LLMs such as Qwen VL. Potentially we can optimize hyperparameters.\n",
    "\n",
    "- The amount of data for the minority classes can be increased using methods like GAN (Generative AI). I used in my practice CTGAN and it has shown a considerable improvement in the model performance. This is part of Handle Data Imbalance. \n",
    "\n",
    "- I think  a more traditional model like RNN or LSTM can perform better with this task, but my objective here was to explore the capabilities of LLM Language Vision model, to see to what extent it can predict an ECG signal. \n",
    "\n",
    "- Giving, there was no attemt to improve the model, and the use of a light 7B model, the results looks promising for the furutre research. "
   ]
  },
  {
   "cell_type": "code",
   "execution_count": null,
   "id": "98887ab7",
   "metadata": {},
   "outputs": [],
   "source": []
  }
 ],
 "metadata": {
  "kernelspec": {
   "display_name": "myenv3.10.14",
   "language": "python",
   "name": "myenv3.10.14"
  },
  "language_info": {
   "codemirror_mode": {
    "name": "ipython",
    "version": 3
   },
   "file_extension": ".py",
   "mimetype": "text/x-python",
   "name": "python",
   "nbconvert_exporter": "python",
   "pygments_lexer": "ipython3",
   "version": "3.10.14"
  }
 },
 "nbformat": 4,
 "nbformat_minor": 5
}
